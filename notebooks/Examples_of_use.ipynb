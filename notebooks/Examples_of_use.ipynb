{
 "cells": [
  {
   "cell_type": "markdown",
   "metadata": {},
   "source": [
    "The main aim of `mplutils` is to help in the daily work with matplotlib. The motivation to create the library is to help in some tasks that should be easier if you use them on a daily basis and to provide some information that sometimes is not easy to find/understand (at least for me).\n",
    "\n",
    "The library is divided in diferent sections related with main topics of Matplotlib usage.\n",
    "\n",
    "* `colors`: Some tools to work with colors and to provide best practices.\n",
    "* `text`: Very simple tools to inspect text features.\n",
    "* `figure`: Transformations applied to a `Figure` instance.\n",
    "* `axes`: Transformations applied to an `Axes` instance.\n",
    "* `charts`: Some best practices for some chart types as well as some functions to create not so frequent charts."
   ]
  },
  {
   "cell_type": "code",
   "execution_count": 1,
   "metadata": {
    "collapsed": false
   },
   "outputs": [
    {
     "name": "stdout",
     "output_type": "stream",
     "text": [
      "H:\\mplutils\n"
     ]
    }
   ],
   "source": [
    "%cd .."
   ]
  },
  {
   "cell_type": "code",
   "execution_count": 2,
   "metadata": {
    "collapsed": false
   },
   "outputs": [],
   "source": [
    "import numpy as np\n",
    "import matplotlib.pyplot as plt\n",
    "import mplutils as mplu\n",
    "%matplotlib inline"
   ]
  },
  {
   "cell_type": "markdown",
   "metadata": {},
   "source": [
    "# Text"
   ]
  },
  {
   "cell_type": "markdown",
   "metadata": {
    "collapsed": false
   },
   "source": [
    "### Get the name of the available fonts in the system.\n",
    "\n",
    "Here we only show the first ten options:"
   ]
  },
  {
   "cell_type": "code",
   "execution_count": 3,
   "metadata": {
    "collapsed": false
   },
   "outputs": [
    {
     "data": {
      "text/plain": [
       "['c:\\\\windows\\\\fonts\\\\trob.ttf',\n",
       " 'C:\\\\Windows\\\\Fonts\\\\leelawad.ttf',\n",
       " 'c:\\\\windows\\\\fonts\\\\ahronbd.ttf',\n",
       " 'C:\\\\Windows\\\\Fonts\\\\consolaz.ttf',\n",
       " 'C:\\\\Windows\\\\Fonts\\\\ebrimabd.ttf',\n",
       " 'C:\\\\Windows\\\\Fonts\\\\ITCEDSCR.TTF',\n",
       " 'C:\\\\Windows\\\\Fonts\\\\GOUDOSB.TTF',\n",
       " 'C:\\\\Windows\\\\Fonts\\\\upcfb.ttf',\n",
       " 'c:\\\\windows\\\\fonts\\\\forte.ttf',\n",
       " 'C:\\\\Windows\\\\Fonts\\\\tahomabd.ttf']"
      ]
     },
     "execution_count": 3,
     "metadata": {},
     "output_type": "execute_result"
    }
   ],
   "source": [
    "mplu.text.text_getinfo_availablesystemfonts()[0:10]"
   ]
  },
  {
   "cell_type": "markdown",
   "metadata": {
    "collapsed": false
   },
   "source": [
    "# Colors"
   ]
  },
  {
   "cell_type": "markdown",
   "metadata": {
    "collapsed": false
   },
   "source": [
    "### Get the color aliases used by matplotlib.\n",
    "\n",
    "In a console the result will be a string like this one:"
   ]
  },
  {
   "cell_type": "code",
   "execution_count": 4,
   "metadata": {
    "collapsed": false
   },
   "outputs": [
    {
     "name": "stdout",
     "output_type": "stream",
     "text": [
      "springgreen:#00FF7F\n",
      "royalblue:#4169E1\n",
      "lightyellow:#FFFFE0\n",
      "indianred:#CD5C5C\n",
      "mediumaquamarine:#66CDAA\n",
      "lightgray:#D3D3D3\n",
      "seagreen:#2E8B57\n",
      "blue:#0000FF\n",
      "tan:#D2B48C\n",
      "darkblue:#00008B\n",
      "forestgreen:#228B22\n",
      "thistle:#D8BFD8\n",
      "slateblue:#6A5ACD\n",
      "darkkhaki:#BDB76B\n",
      "chocolate:#D2691E\n",
      "mistyrose:#FFE4E1\n",
      "black:#000000\n",
      "whitesmoke:#F5F5F5\n",
      "deepskyblue:#00BFFF\n",
      "aliceblue:#F0F8FF\n",
      "midnightblue:#191970\n",
      "bisque:#FFE4C4\n",
      "linen:#FAF0E6\n",
      "dodgerblue:#1E90FF\n",
      "lightgrey:#D3D3D3\n",
      "papayawhip:#FFEFD5\n",
      "dimgrey:#696969\n",
      "paleturquoise:#AFEEEE\n",
      "powderblue:#B0E0E6\n",
      "darkslategray:#2F4F4F\n",
      "floralwhite:#FFFAF0\n",
      "wheat:#F5DEB3\n",
      "navajowhite:#FFDEAD\n",
      "honeydew:#F0FFF0\n",
      "darkslateblue:#483D8B\n",
      "chartreuse:#7FFF00\n",
      "darkorange:#FF8C00\n",
      "yellowgreen:#9ACD32\n",
      "orangered:#FF4500\n",
      "darkorchid:#9932CC\n",
      "lightskyblue:#87CEFA\n",
      "mediumpurple:#9370DB\n",
      "slategray:#708090\n",
      "goldenrod:#DAA520\n",
      "ghostwhite:#F8F8FF\n",
      "olive:#808000\n",
      "magenta:#FF00FF\n",
      "saddlebrown:#8B4513\n",
      "sandybrown:#FAA460\n",
      "lightsalmon:#FFA07A\n",
      "dimgray:#696969\n",
      "oldlace:#FDF5E6\n",
      "steelblue:#4682B4\n",
      "palegreen:#98FB98\n",
      "slategrey:#708090\n",
      "aqua:#00FFFF\n",
      "white:#FFFFFF\n",
      "orange:#FFA500\n",
      "darkred:#8B0000\n",
      "darkgoldenrod:#B8860B\n",
      "lightsage:#BCECAC\n",
      "limegreen:#32CD32\n",
      "lightgoldenrodyellow:#FAFAD2\n",
      "khaki:#F0E68C\n",
      "darksage:#598556\n",
      "sienna:#A0522D\n",
      "crimson:#DC143C\n",
      "salmon:#FA8072\n",
      "seashell:#FFF5EE\n",
      "turquoise:#40E0D0\n",
      "cyan:#00FFFF\n",
      "cadetblue:#5F9EA0\n",
      "lightcoral:#F08080\n",
      "gray:#808080\n",
      "lightsteelblue:#B0C4DE\n",
      "indigo:#4B0082\n",
      "mediumblue:#0000CD\n",
      "beige:#F5F5DC\n",
      "olivedrab:#6B8E23\n",
      "lightgreen:#90EE90\n",
      "ivory:#FFFFF0\n",
      "green:#008000\n",
      "lightslategrey:#778899\n",
      "darkgray:#A9A9A9\n",
      "darkseagreen:#8FBC8F\n",
      "cornflowerblue:#6495ED\n",
      "gold:#FFD700\n",
      "peru:#CD853F\n",
      "mediumvioletred:#C71585\n",
      "blanchedalmond:#FFEBCD\n",
      "burlywood:#DEB887\n",
      "darkolivegreen:#556B2F\n",
      "maroon:#800000\n",
      "lightcyan:#E0FFFF\n",
      "fuchsia:#FF00FF\n",
      "mediumslateblue:#7B68EE\n",
      "violet:#EE82EE\n",
      "darkslategrey:#2F4F4F\n",
      "hotpink:#FF69B4\n",
      "red:#FF0000\n",
      "rosybrown:#BC8F8F\n",
      "darkturquoise:#00CED1\n",
      "palegoldenrod:#EEE8AA\n",
      "brown:#A52A2A\n",
      "greenyellow:#ADFF2F\n",
      "lavenderblush:#FFF0F5\n",
      "darkgrey:#A9A9A9\n",
      "skyblue:#87CEEB\n",
      "aquamarine:#7FFFD4\n",
      "mediumorchid:#BA55D3\n",
      "darksalmon:#E9967A\n",
      "lemonchiffon:#FFFACD\n",
      "lightseagreen:#20B2AA\n",
      "mediumseagreen:#3CB371\n",
      "plum:#DDA0DD\n",
      "azure:#F0FFFF\n",
      "pink:#FFC0CB\n",
      "moccasin:#FFE4B5\n",
      "darkviolet:#9400D3\n",
      "lavender:#E6E6FA\n",
      "lightslategray:#778899\n",
      "grey:#808080\n",
      "lawngreen:#7CFC00\n",
      "gainsboro:#DCDCDC\n",
      "snow:#FFFAFA\n",
      "lightblue:#ADD8E6\n",
      "firebrick:#B22222\n",
      "silver:#C0C0C0\n",
      "lime:#00FF00\n",
      "mediumspringgreen:#00FA9A\n",
      "darkcyan:#008B8B\n",
      "antiquewhite:#FAEBD7\n",
      "darkgreen:#006400\n",
      "sage:#87AE73\n",
      "tomato:#FF6347\n",
      "cornsilk:#FFF8DC\n",
      "teal:#008080\n",
      "blueviolet:#8A2BE2\n",
      "mediumturquoise:#48D1CC\n",
      "palevioletred:#DB7093\n",
      "navy:#000080\n",
      "purple:#800080\n",
      "yellow:#FFFF00\n",
      "darkmagenta:#8B008B\n",
      "mintcream:#F5FFFA\n",
      "coral:#FF7F50\n",
      "deeppink:#FF1493\n",
      "orchid:#DA70D6\n",
      "lightpink:#FFB6C1\n",
      "peachpuff:#FFDAB9\n",
      "\n"
     ]
    }
   ],
   "source": [
    "print(mplu.colors.colors_mpl_cnames())"
   ]
  },
  {
   "cell_type": "markdown",
   "metadata": {},
   "source": [
    "In a notebook you could use a richer display using it like:"
   ]
  },
  {
   "cell_type": "code",
   "execution_count": 5,
   "metadata": {
    "collapsed": false
   },
   "outputs": [
    {
     "data": {
      "text/html": [
       "<table>\n",
       "  <tr>\n",
       "    <td>springgreen</td>\n",
       "    <td>#00FF7F</td>\n",
       "    <td bgcolor=\"#00FF7F\" width=\"50px\"></td>\n",
       "  <tr>\n",
       "    <td>royalblue</td>\n",
       "    <td>#4169E1</td>\n",
       "    <td bgcolor=\"#4169E1\" width=\"50px\"></td>\n",
       "  <tr>\n",
       "    <td>lightyellow</td>\n",
       "    <td>#FFFFE0</td>\n",
       "    <td bgcolor=\"#FFFFE0\" width=\"50px\"></td>\n",
       "  <tr>\n",
       "    <td>indianred</td>\n",
       "    <td>#CD5C5C</td>\n",
       "    <td bgcolor=\"#CD5C5C\" width=\"50px\"></td>\n",
       "  <tr>\n",
       "    <td>mediumaquamarine</td>\n",
       "    <td>#66CDAA</td>\n",
       "    <td bgcolor=\"#66CDAA\" width=\"50px\"></td>\n",
       "  <tr>\n",
       "    <td>lightgray</td>\n",
       "    <td>#D3D3D3</td>\n",
       "    <td bgcolor=\"#D3D3D3\" width=\"50px\"></td>\n",
       "  <tr>\n",
       "    <td>seagreen</td>\n",
       "    <td>#2E8B57</td>\n",
       "    <td bgcolor=\"#2E8B57\" width=\"50px\"></td>\n",
       "  <tr>\n",
       "    <td>blue</td>\n",
       "    <td>#0000FF</td>\n",
       "    <td bgcolor=\"#0000FF\" width=\"50px\"></td>\n",
       "  <tr>\n",
       "    <td>tan</td>\n",
       "    <td>#D2B48C</td>\n",
       "    <td bgcolor=\"#D2B48C\" width=\"50px\"></td>\n",
       "  <tr>\n",
       "    <td>darkblue</td>\n",
       "    <td>#00008B</td>\n",
       "    <td bgcolor=\"#00008B\" width=\"50px\"></td>\n",
       "  <tr>\n",
       "    <td>forestgreen</td>\n",
       "    <td>#228B22</td>\n",
       "    <td bgcolor=\"#228B22\" width=\"50px\"></td>\n",
       "  <tr>\n",
       "    <td>thistle</td>\n",
       "    <td>#D8BFD8</td>\n",
       "    <td bgcolor=\"#D8BFD8\" width=\"50px\"></td>\n",
       "  <tr>\n",
       "    <td>slateblue</td>\n",
       "    <td>#6A5ACD</td>\n",
       "    <td bgcolor=\"#6A5ACD\" width=\"50px\"></td>\n",
       "  <tr>\n",
       "    <td>darkkhaki</td>\n",
       "    <td>#BDB76B</td>\n",
       "    <td bgcolor=\"#BDB76B\" width=\"50px\"></td>\n",
       "  <tr>\n",
       "    <td>chocolate</td>\n",
       "    <td>#D2691E</td>\n",
       "    <td bgcolor=\"#D2691E\" width=\"50px\"></td>\n",
       "  <tr>\n",
       "    <td>mistyrose</td>\n",
       "    <td>#FFE4E1</td>\n",
       "    <td bgcolor=\"#FFE4E1\" width=\"50px\"></td>\n",
       "  <tr>\n",
       "    <td>black</td>\n",
       "    <td>#000000</td>\n",
       "    <td bgcolor=\"#000000\" width=\"50px\"></td>\n",
       "  <tr>\n",
       "    <td>whitesmoke</td>\n",
       "    <td>#F5F5F5</td>\n",
       "    <td bgcolor=\"#F5F5F5\" width=\"50px\"></td>\n",
       "  <tr>\n",
       "    <td>deepskyblue</td>\n",
       "    <td>#00BFFF</td>\n",
       "    <td bgcolor=\"#00BFFF\" width=\"50px\"></td>\n",
       "  <tr>\n",
       "    <td>aliceblue</td>\n",
       "    <td>#F0F8FF</td>\n",
       "    <td bgcolor=\"#F0F8FF\" width=\"50px\"></td>\n",
       "  <tr>\n",
       "    <td>midnightblue</td>\n",
       "    <td>#191970</td>\n",
       "    <td bgcolor=\"#191970\" width=\"50px\"></td>\n",
       "  <tr>\n",
       "    <td>bisque</td>\n",
       "    <td>#FFE4C4</td>\n",
       "    <td bgcolor=\"#FFE4C4\" width=\"50px\"></td>\n",
       "  <tr>\n",
       "    <td>linen</td>\n",
       "    <td>#FAF0E6</td>\n",
       "    <td bgcolor=\"#FAF0E6\" width=\"50px\"></td>\n",
       "  <tr>\n",
       "    <td>dodgerblue</td>\n",
       "    <td>#1E90FF</td>\n",
       "    <td bgcolor=\"#1E90FF\" width=\"50px\"></td>\n",
       "  <tr>\n",
       "    <td>lightgrey</td>\n",
       "    <td>#D3D3D3</td>\n",
       "    <td bgcolor=\"#D3D3D3\" width=\"50px\"></td>\n",
       "  <tr>\n",
       "    <td>papayawhip</td>\n",
       "    <td>#FFEFD5</td>\n",
       "    <td bgcolor=\"#FFEFD5\" width=\"50px\"></td>\n",
       "  <tr>\n",
       "    <td>dimgrey</td>\n",
       "    <td>#696969</td>\n",
       "    <td bgcolor=\"#696969\" width=\"50px\"></td>\n",
       "  <tr>\n",
       "    <td>paleturquoise</td>\n",
       "    <td>#AFEEEE</td>\n",
       "    <td bgcolor=\"#AFEEEE\" width=\"50px\"></td>\n",
       "  <tr>\n",
       "    <td>powderblue</td>\n",
       "    <td>#B0E0E6</td>\n",
       "    <td bgcolor=\"#B0E0E6\" width=\"50px\"></td>\n",
       "  <tr>\n",
       "    <td>darkslategray</td>\n",
       "    <td>#2F4F4F</td>\n",
       "    <td bgcolor=\"#2F4F4F\" width=\"50px\"></td>\n",
       "  <tr>\n",
       "    <td>floralwhite</td>\n",
       "    <td>#FFFAF0</td>\n",
       "    <td bgcolor=\"#FFFAF0\" width=\"50px\"></td>\n",
       "  <tr>\n",
       "    <td>wheat</td>\n",
       "    <td>#F5DEB3</td>\n",
       "    <td bgcolor=\"#F5DEB3\" width=\"50px\"></td>\n",
       "  <tr>\n",
       "    <td>navajowhite</td>\n",
       "    <td>#FFDEAD</td>\n",
       "    <td bgcolor=\"#FFDEAD\" width=\"50px\"></td>\n",
       "  <tr>\n",
       "    <td>honeydew</td>\n",
       "    <td>#F0FFF0</td>\n",
       "    <td bgcolor=\"#F0FFF0\" width=\"50px\"></td>\n",
       "  <tr>\n",
       "    <td>darkslateblue</td>\n",
       "    <td>#483D8B</td>\n",
       "    <td bgcolor=\"#483D8B\" width=\"50px\"></td>\n",
       "  <tr>\n",
       "    <td>chartreuse</td>\n",
       "    <td>#7FFF00</td>\n",
       "    <td bgcolor=\"#7FFF00\" width=\"50px\"></td>\n",
       "  <tr>\n",
       "    <td>darkorange</td>\n",
       "    <td>#FF8C00</td>\n",
       "    <td bgcolor=\"#FF8C00\" width=\"50px\"></td>\n",
       "  <tr>\n",
       "    <td>yellowgreen</td>\n",
       "    <td>#9ACD32</td>\n",
       "    <td bgcolor=\"#9ACD32\" width=\"50px\"></td>\n",
       "  <tr>\n",
       "    <td>orangered</td>\n",
       "    <td>#FF4500</td>\n",
       "    <td bgcolor=\"#FF4500\" width=\"50px\"></td>\n",
       "  <tr>\n",
       "    <td>darkorchid</td>\n",
       "    <td>#9932CC</td>\n",
       "    <td bgcolor=\"#9932CC\" width=\"50px\"></td>\n",
       "  <tr>\n",
       "    <td>lightskyblue</td>\n",
       "    <td>#87CEFA</td>\n",
       "    <td bgcolor=\"#87CEFA\" width=\"50px\"></td>\n",
       "  <tr>\n",
       "    <td>mediumpurple</td>\n",
       "    <td>#9370DB</td>\n",
       "    <td bgcolor=\"#9370DB\" width=\"50px\"></td>\n",
       "  <tr>\n",
       "    <td>slategray</td>\n",
       "    <td>#708090</td>\n",
       "    <td bgcolor=\"#708090\" width=\"50px\"></td>\n",
       "  <tr>\n",
       "    <td>goldenrod</td>\n",
       "    <td>#DAA520</td>\n",
       "    <td bgcolor=\"#DAA520\" width=\"50px\"></td>\n",
       "  <tr>\n",
       "    <td>ghostwhite</td>\n",
       "    <td>#F8F8FF</td>\n",
       "    <td bgcolor=\"#F8F8FF\" width=\"50px\"></td>\n",
       "  <tr>\n",
       "    <td>olive</td>\n",
       "    <td>#808000</td>\n",
       "    <td bgcolor=\"#808000\" width=\"50px\"></td>\n",
       "  <tr>\n",
       "    <td>magenta</td>\n",
       "    <td>#FF00FF</td>\n",
       "    <td bgcolor=\"#FF00FF\" width=\"50px\"></td>\n",
       "  <tr>\n",
       "    <td>saddlebrown</td>\n",
       "    <td>#8B4513</td>\n",
       "    <td bgcolor=\"#8B4513\" width=\"50px\"></td>\n",
       "  <tr>\n",
       "    <td>sandybrown</td>\n",
       "    <td>#FAA460</td>\n",
       "    <td bgcolor=\"#FAA460\" width=\"50px\"></td>\n",
       "  <tr>\n",
       "    <td>lightsalmon</td>\n",
       "    <td>#FFA07A</td>\n",
       "    <td bgcolor=\"#FFA07A\" width=\"50px\"></td>\n",
       "  <tr>\n",
       "    <td>dimgray</td>\n",
       "    <td>#696969</td>\n",
       "    <td bgcolor=\"#696969\" width=\"50px\"></td>\n",
       "  <tr>\n",
       "    <td>oldlace</td>\n",
       "    <td>#FDF5E6</td>\n",
       "    <td bgcolor=\"#FDF5E6\" width=\"50px\"></td>\n",
       "  <tr>\n",
       "    <td>steelblue</td>\n",
       "    <td>#4682B4</td>\n",
       "    <td bgcolor=\"#4682B4\" width=\"50px\"></td>\n",
       "  <tr>\n",
       "    <td>palegreen</td>\n",
       "    <td>#98FB98</td>\n",
       "    <td bgcolor=\"#98FB98\" width=\"50px\"></td>\n",
       "  <tr>\n",
       "    <td>slategrey</td>\n",
       "    <td>#708090</td>\n",
       "    <td bgcolor=\"#708090\" width=\"50px\"></td>\n",
       "  <tr>\n",
       "    <td>aqua</td>\n",
       "    <td>#00FFFF</td>\n",
       "    <td bgcolor=\"#00FFFF\" width=\"50px\"></td>\n",
       "  <tr>\n",
       "    <td>white</td>\n",
       "    <td>#FFFFFF</td>\n",
       "    <td bgcolor=\"#FFFFFF\" width=\"50px\"></td>\n",
       "  <tr>\n",
       "    <td>orange</td>\n",
       "    <td>#FFA500</td>\n",
       "    <td bgcolor=\"#FFA500\" width=\"50px\"></td>\n",
       "  <tr>\n",
       "    <td>darkred</td>\n",
       "    <td>#8B0000</td>\n",
       "    <td bgcolor=\"#8B0000\" width=\"50px\"></td>\n",
       "  <tr>\n",
       "    <td>darkgoldenrod</td>\n",
       "    <td>#B8860B</td>\n",
       "    <td bgcolor=\"#B8860B\" width=\"50px\"></td>\n",
       "  <tr>\n",
       "    <td>lightsage</td>\n",
       "    <td>#BCECAC</td>\n",
       "    <td bgcolor=\"#BCECAC\" width=\"50px\"></td>\n",
       "  <tr>\n",
       "    <td>limegreen</td>\n",
       "    <td>#32CD32</td>\n",
       "    <td bgcolor=\"#32CD32\" width=\"50px\"></td>\n",
       "  <tr>\n",
       "    <td>lightgoldenrodyellow</td>\n",
       "    <td>#FAFAD2</td>\n",
       "    <td bgcolor=\"#FAFAD2\" width=\"50px\"></td>\n",
       "  <tr>\n",
       "    <td>khaki</td>\n",
       "    <td>#F0E68C</td>\n",
       "    <td bgcolor=\"#F0E68C\" width=\"50px\"></td>\n",
       "  <tr>\n",
       "    <td>darksage</td>\n",
       "    <td>#598556</td>\n",
       "    <td bgcolor=\"#598556\" width=\"50px\"></td>\n",
       "  <tr>\n",
       "    <td>sienna</td>\n",
       "    <td>#A0522D</td>\n",
       "    <td bgcolor=\"#A0522D\" width=\"50px\"></td>\n",
       "  <tr>\n",
       "    <td>crimson</td>\n",
       "    <td>#DC143C</td>\n",
       "    <td bgcolor=\"#DC143C\" width=\"50px\"></td>\n",
       "  <tr>\n",
       "    <td>salmon</td>\n",
       "    <td>#FA8072</td>\n",
       "    <td bgcolor=\"#FA8072\" width=\"50px\"></td>\n",
       "  <tr>\n",
       "    <td>seashell</td>\n",
       "    <td>#FFF5EE</td>\n",
       "    <td bgcolor=\"#FFF5EE\" width=\"50px\"></td>\n",
       "  <tr>\n",
       "    <td>turquoise</td>\n",
       "    <td>#40E0D0</td>\n",
       "    <td bgcolor=\"#40E0D0\" width=\"50px\"></td>\n",
       "  <tr>\n",
       "    <td>cyan</td>\n",
       "    <td>#00FFFF</td>\n",
       "    <td bgcolor=\"#00FFFF\" width=\"50px\"></td>\n",
       "  <tr>\n",
       "    <td>cadetblue</td>\n",
       "    <td>#5F9EA0</td>\n",
       "    <td bgcolor=\"#5F9EA0\" width=\"50px\"></td>\n",
       "  <tr>\n",
       "    <td>lightcoral</td>\n",
       "    <td>#F08080</td>\n",
       "    <td bgcolor=\"#F08080\" width=\"50px\"></td>\n",
       "  <tr>\n",
       "    <td>gray</td>\n",
       "    <td>#808080</td>\n",
       "    <td bgcolor=\"#808080\" width=\"50px\"></td>\n",
       "  <tr>\n",
       "    <td>lightsteelblue</td>\n",
       "    <td>#B0C4DE</td>\n",
       "    <td bgcolor=\"#B0C4DE\" width=\"50px\"></td>\n",
       "  <tr>\n",
       "    <td>indigo</td>\n",
       "    <td>#4B0082</td>\n",
       "    <td bgcolor=\"#4B0082\" width=\"50px\"></td>\n",
       "  <tr>\n",
       "    <td>mediumblue</td>\n",
       "    <td>#0000CD</td>\n",
       "    <td bgcolor=\"#0000CD\" width=\"50px\"></td>\n",
       "  <tr>\n",
       "    <td>beige</td>\n",
       "    <td>#F5F5DC</td>\n",
       "    <td bgcolor=\"#F5F5DC\" width=\"50px\"></td>\n",
       "  <tr>\n",
       "    <td>olivedrab</td>\n",
       "    <td>#6B8E23</td>\n",
       "    <td bgcolor=\"#6B8E23\" width=\"50px\"></td>\n",
       "  <tr>\n",
       "    <td>lightgreen</td>\n",
       "    <td>#90EE90</td>\n",
       "    <td bgcolor=\"#90EE90\" width=\"50px\"></td>\n",
       "  <tr>\n",
       "    <td>ivory</td>\n",
       "    <td>#FFFFF0</td>\n",
       "    <td bgcolor=\"#FFFFF0\" width=\"50px\"></td>\n",
       "  <tr>\n",
       "    <td>green</td>\n",
       "    <td>#008000</td>\n",
       "    <td bgcolor=\"#008000\" width=\"50px\"></td>\n",
       "  <tr>\n",
       "    <td>lightslategrey</td>\n",
       "    <td>#778899</td>\n",
       "    <td bgcolor=\"#778899\" width=\"50px\"></td>\n",
       "  <tr>\n",
       "    <td>darkgray</td>\n",
       "    <td>#A9A9A9</td>\n",
       "    <td bgcolor=\"#A9A9A9\" width=\"50px\"></td>\n",
       "  <tr>\n",
       "    <td>darkseagreen</td>\n",
       "    <td>#8FBC8F</td>\n",
       "    <td bgcolor=\"#8FBC8F\" width=\"50px\"></td>\n",
       "  <tr>\n",
       "    <td>cornflowerblue</td>\n",
       "    <td>#6495ED</td>\n",
       "    <td bgcolor=\"#6495ED\" width=\"50px\"></td>\n",
       "  <tr>\n",
       "    <td>gold</td>\n",
       "    <td>#FFD700</td>\n",
       "    <td bgcolor=\"#FFD700\" width=\"50px\"></td>\n",
       "  <tr>\n",
       "    <td>peru</td>\n",
       "    <td>#CD853F</td>\n",
       "    <td bgcolor=\"#CD853F\" width=\"50px\"></td>\n",
       "  <tr>\n",
       "    <td>mediumvioletred</td>\n",
       "    <td>#C71585</td>\n",
       "    <td bgcolor=\"#C71585\" width=\"50px\"></td>\n",
       "  <tr>\n",
       "    <td>blanchedalmond</td>\n",
       "    <td>#FFEBCD</td>\n",
       "    <td bgcolor=\"#FFEBCD\" width=\"50px\"></td>\n",
       "  <tr>\n",
       "    <td>burlywood</td>\n",
       "    <td>#DEB887</td>\n",
       "    <td bgcolor=\"#DEB887\" width=\"50px\"></td>\n",
       "  <tr>\n",
       "    <td>darkolivegreen</td>\n",
       "    <td>#556B2F</td>\n",
       "    <td bgcolor=\"#556B2F\" width=\"50px\"></td>\n",
       "  <tr>\n",
       "    <td>maroon</td>\n",
       "    <td>#800000</td>\n",
       "    <td bgcolor=\"#800000\" width=\"50px\"></td>\n",
       "  <tr>\n",
       "    <td>lightcyan</td>\n",
       "    <td>#E0FFFF</td>\n",
       "    <td bgcolor=\"#E0FFFF\" width=\"50px\"></td>\n",
       "  <tr>\n",
       "    <td>fuchsia</td>\n",
       "    <td>#FF00FF</td>\n",
       "    <td bgcolor=\"#FF00FF\" width=\"50px\"></td>\n",
       "  <tr>\n",
       "    <td>mediumslateblue</td>\n",
       "    <td>#7B68EE</td>\n",
       "    <td bgcolor=\"#7B68EE\" width=\"50px\"></td>\n",
       "  <tr>\n",
       "    <td>violet</td>\n",
       "    <td>#EE82EE</td>\n",
       "    <td bgcolor=\"#EE82EE\" width=\"50px\"></td>\n",
       "  <tr>\n",
       "    <td>darkslategrey</td>\n",
       "    <td>#2F4F4F</td>\n",
       "    <td bgcolor=\"#2F4F4F\" width=\"50px\"></td>\n",
       "  <tr>\n",
       "    <td>hotpink</td>\n",
       "    <td>#FF69B4</td>\n",
       "    <td bgcolor=\"#FF69B4\" width=\"50px\"></td>\n",
       "  <tr>\n",
       "    <td>red</td>\n",
       "    <td>#FF0000</td>\n",
       "    <td bgcolor=\"#FF0000\" width=\"50px\"></td>\n",
       "  <tr>\n",
       "    <td>rosybrown</td>\n",
       "    <td>#BC8F8F</td>\n",
       "    <td bgcolor=\"#BC8F8F\" width=\"50px\"></td>\n",
       "  <tr>\n",
       "    <td>darkturquoise</td>\n",
       "    <td>#00CED1</td>\n",
       "    <td bgcolor=\"#00CED1\" width=\"50px\"></td>\n",
       "  <tr>\n",
       "    <td>palegoldenrod</td>\n",
       "    <td>#EEE8AA</td>\n",
       "    <td bgcolor=\"#EEE8AA\" width=\"50px\"></td>\n",
       "  <tr>\n",
       "    <td>brown</td>\n",
       "    <td>#A52A2A</td>\n",
       "    <td bgcolor=\"#A52A2A\" width=\"50px\"></td>\n",
       "  <tr>\n",
       "    <td>greenyellow</td>\n",
       "    <td>#ADFF2F</td>\n",
       "    <td bgcolor=\"#ADFF2F\" width=\"50px\"></td>\n",
       "  <tr>\n",
       "    <td>lavenderblush</td>\n",
       "    <td>#FFF0F5</td>\n",
       "    <td bgcolor=\"#FFF0F5\" width=\"50px\"></td>\n",
       "  <tr>\n",
       "    <td>darkgrey</td>\n",
       "    <td>#A9A9A9</td>\n",
       "    <td bgcolor=\"#A9A9A9\" width=\"50px\"></td>\n",
       "  <tr>\n",
       "    <td>skyblue</td>\n",
       "    <td>#87CEEB</td>\n",
       "    <td bgcolor=\"#87CEEB\" width=\"50px\"></td>\n",
       "  <tr>\n",
       "    <td>aquamarine</td>\n",
       "    <td>#7FFFD4</td>\n",
       "    <td bgcolor=\"#7FFFD4\" width=\"50px\"></td>\n",
       "  <tr>\n",
       "    <td>mediumorchid</td>\n",
       "    <td>#BA55D3</td>\n",
       "    <td bgcolor=\"#BA55D3\" width=\"50px\"></td>\n",
       "  <tr>\n",
       "    <td>darksalmon</td>\n",
       "    <td>#E9967A</td>\n",
       "    <td bgcolor=\"#E9967A\" width=\"50px\"></td>\n",
       "  <tr>\n",
       "    <td>lemonchiffon</td>\n",
       "    <td>#FFFACD</td>\n",
       "    <td bgcolor=\"#FFFACD\" width=\"50px\"></td>\n",
       "  <tr>\n",
       "    <td>lightseagreen</td>\n",
       "    <td>#20B2AA</td>\n",
       "    <td bgcolor=\"#20B2AA\" width=\"50px\"></td>\n",
       "  <tr>\n",
       "    <td>mediumseagreen</td>\n",
       "    <td>#3CB371</td>\n",
       "    <td bgcolor=\"#3CB371\" width=\"50px\"></td>\n",
       "  <tr>\n",
       "    <td>plum</td>\n",
       "    <td>#DDA0DD</td>\n",
       "    <td bgcolor=\"#DDA0DD\" width=\"50px\"></td>\n",
       "  <tr>\n",
       "    <td>azure</td>\n",
       "    <td>#F0FFFF</td>\n",
       "    <td bgcolor=\"#F0FFFF\" width=\"50px\"></td>\n",
       "  <tr>\n",
       "    <td>pink</td>\n",
       "    <td>#FFC0CB</td>\n",
       "    <td bgcolor=\"#FFC0CB\" width=\"50px\"></td>\n",
       "  <tr>\n",
       "    <td>moccasin</td>\n",
       "    <td>#FFE4B5</td>\n",
       "    <td bgcolor=\"#FFE4B5\" width=\"50px\"></td>\n",
       "  <tr>\n",
       "    <td>darkviolet</td>\n",
       "    <td>#9400D3</td>\n",
       "    <td bgcolor=\"#9400D3\" width=\"50px\"></td>\n",
       "  <tr>\n",
       "    <td>lavender</td>\n",
       "    <td>#E6E6FA</td>\n",
       "    <td bgcolor=\"#E6E6FA\" width=\"50px\"></td>\n",
       "  <tr>\n",
       "    <td>lightslategray</td>\n",
       "    <td>#778899</td>\n",
       "    <td bgcolor=\"#778899\" width=\"50px\"></td>\n",
       "  <tr>\n",
       "    <td>grey</td>\n",
       "    <td>#808080</td>\n",
       "    <td bgcolor=\"#808080\" width=\"50px\"></td>\n",
       "  <tr>\n",
       "    <td>lawngreen</td>\n",
       "    <td>#7CFC00</td>\n",
       "    <td bgcolor=\"#7CFC00\" width=\"50px\"></td>\n",
       "  <tr>\n",
       "    <td>gainsboro</td>\n",
       "    <td>#DCDCDC</td>\n",
       "    <td bgcolor=\"#DCDCDC\" width=\"50px\"></td>\n",
       "  <tr>\n",
       "    <td>snow</td>\n",
       "    <td>#FFFAFA</td>\n",
       "    <td bgcolor=\"#FFFAFA\" width=\"50px\"></td>\n",
       "  <tr>\n",
       "    <td>lightblue</td>\n",
       "    <td>#ADD8E6</td>\n",
       "    <td bgcolor=\"#ADD8E6\" width=\"50px\"></td>\n",
       "  <tr>\n",
       "    <td>firebrick</td>\n",
       "    <td>#B22222</td>\n",
       "    <td bgcolor=\"#B22222\" width=\"50px\"></td>\n",
       "  <tr>\n",
       "    <td>silver</td>\n",
       "    <td>#C0C0C0</td>\n",
       "    <td bgcolor=\"#C0C0C0\" width=\"50px\"></td>\n",
       "  <tr>\n",
       "    <td>lime</td>\n",
       "    <td>#00FF00</td>\n",
       "    <td bgcolor=\"#00FF00\" width=\"50px\"></td>\n",
       "  <tr>\n",
       "    <td>mediumspringgreen</td>\n",
       "    <td>#00FA9A</td>\n",
       "    <td bgcolor=\"#00FA9A\" width=\"50px\"></td>\n",
       "  <tr>\n",
       "    <td>darkcyan</td>\n",
       "    <td>#008B8B</td>\n",
       "    <td bgcolor=\"#008B8B\" width=\"50px\"></td>\n",
       "  <tr>\n",
       "    <td>antiquewhite</td>\n",
       "    <td>#FAEBD7</td>\n",
       "    <td bgcolor=\"#FAEBD7\" width=\"50px\"></td>\n",
       "  <tr>\n",
       "    <td>darkgreen</td>\n",
       "    <td>#006400</td>\n",
       "    <td bgcolor=\"#006400\" width=\"50px\"></td>\n",
       "  <tr>\n",
       "    <td>sage</td>\n",
       "    <td>#87AE73</td>\n",
       "    <td bgcolor=\"#87AE73\" width=\"50px\"></td>\n",
       "  <tr>\n",
       "    <td>tomato</td>\n",
       "    <td>#FF6347</td>\n",
       "    <td bgcolor=\"#FF6347\" width=\"50px\"></td>\n",
       "  <tr>\n",
       "    <td>cornsilk</td>\n",
       "    <td>#FFF8DC</td>\n",
       "    <td bgcolor=\"#FFF8DC\" width=\"50px\"></td>\n",
       "  <tr>\n",
       "    <td>teal</td>\n",
       "    <td>#008080</td>\n",
       "    <td bgcolor=\"#008080\" width=\"50px\"></td>\n",
       "  <tr>\n",
       "    <td>blueviolet</td>\n",
       "    <td>#8A2BE2</td>\n",
       "    <td bgcolor=\"#8A2BE2\" width=\"50px\"></td>\n",
       "  <tr>\n",
       "    <td>mediumturquoise</td>\n",
       "    <td>#48D1CC</td>\n",
       "    <td bgcolor=\"#48D1CC\" width=\"50px\"></td>\n",
       "  <tr>\n",
       "    <td>palevioletred</td>\n",
       "    <td>#DB7093</td>\n",
       "    <td bgcolor=\"#DB7093\" width=\"50px\"></td>\n",
       "  <tr>\n",
       "    <td>navy</td>\n",
       "    <td>#000080</td>\n",
       "    <td bgcolor=\"#000080\" width=\"50px\"></td>\n",
       "  <tr>\n",
       "    <td>purple</td>\n",
       "    <td>#800080</td>\n",
       "    <td bgcolor=\"#800080\" width=\"50px\"></td>\n",
       "  <tr>\n",
       "    <td>yellow</td>\n",
       "    <td>#FFFF00</td>\n",
       "    <td bgcolor=\"#FFFF00\" width=\"50px\"></td>\n",
       "  <tr>\n",
       "    <td>darkmagenta</td>\n",
       "    <td>#8B008B</td>\n",
       "    <td bgcolor=\"#8B008B\" width=\"50px\"></td>\n",
       "  <tr>\n",
       "    <td>mintcream</td>\n",
       "    <td>#F5FFFA</td>\n",
       "    <td bgcolor=\"#F5FFFA\" width=\"50px\"></td>\n",
       "  <tr>\n",
       "    <td>coral</td>\n",
       "    <td>#FF7F50</td>\n",
       "    <td bgcolor=\"#FF7F50\" width=\"50px\"></td>\n",
       "  <tr>\n",
       "    <td>deeppink</td>\n",
       "    <td>#FF1493</td>\n",
       "    <td bgcolor=\"#FF1493\" width=\"50px\"></td>\n",
       "  <tr>\n",
       "    <td>orchid</td>\n",
       "    <td>#DA70D6</td>\n",
       "    <td bgcolor=\"#DA70D6\" width=\"50px\"></td>\n",
       "  <tr>\n",
       "    <td>lightpink</td>\n",
       "    <td>#FFB6C1</td>\n",
       "    <td bgcolor=\"#FFB6C1\" width=\"50px\"></td>\n",
       "  <tr>\n",
       "    <td>peachpuff</td>\n",
       "    <td>#FFDAB9</td>\n",
       "    <td bgcolor=\"#FFDAB9\" width=\"50px\"></td>\n",
       "</table>"
      ],
      "text/plain": [
       "springgreen:#00FF7F\n",
       "royalblue:#4169E1\n",
       "lightyellow:#FFFFE0\n",
       "indianred:#CD5C5C\n",
       "mediumaquamarine:#66CDAA\n",
       "lightgray:#D3D3D3\n",
       "seagreen:#2E8B57\n",
       "blue:#0000FF\n",
       "tan:#D2B48C\n",
       "darkblue:#00008B\n",
       "forestgreen:#228B22\n",
       "thistle:#D8BFD8\n",
       "slateblue:#6A5ACD\n",
       "darkkhaki:#BDB76B\n",
       "chocolate:#D2691E\n",
       "mistyrose:#FFE4E1\n",
       "black:#000000\n",
       "whitesmoke:#F5F5F5\n",
       "deepskyblue:#00BFFF\n",
       "aliceblue:#F0F8FF\n",
       "midnightblue:#191970\n",
       "bisque:#FFE4C4\n",
       "linen:#FAF0E6\n",
       "dodgerblue:#1E90FF\n",
       "lightgrey:#D3D3D3\n",
       "papayawhip:#FFEFD5\n",
       "dimgrey:#696969\n",
       "paleturquoise:#AFEEEE\n",
       "powderblue:#B0E0E6\n",
       "darkslategray:#2F4F4F\n",
       "floralwhite:#FFFAF0\n",
       "wheat:#F5DEB3\n",
       "navajowhite:#FFDEAD\n",
       "honeydew:#F0FFF0\n",
       "darkslateblue:#483D8B\n",
       "chartreuse:#7FFF00\n",
       "darkorange:#FF8C00\n",
       "yellowgreen:#9ACD32\n",
       "orangered:#FF4500\n",
       "darkorchid:#9932CC\n",
       "lightskyblue:#87CEFA\n",
       "mediumpurple:#9370DB\n",
       "slategray:#708090\n",
       "goldenrod:#DAA520\n",
       "ghostwhite:#F8F8FF\n",
       "olive:#808000\n",
       "magenta:#FF00FF\n",
       "saddlebrown:#8B4513\n",
       "sandybrown:#FAA460\n",
       "lightsalmon:#FFA07A\n",
       "dimgray:#696969\n",
       "oldlace:#FDF5E6\n",
       "steelblue:#4682B4\n",
       "palegreen:#98FB98\n",
       "slategrey:#708090\n",
       "aqua:#00FFFF\n",
       "white:#FFFFFF\n",
       "orange:#FFA500\n",
       "darkred:#8B0000\n",
       "darkgoldenrod:#B8860B\n",
       "lightsage:#BCECAC\n",
       "limegreen:#32CD32\n",
       "lightgoldenrodyellow:#FAFAD2\n",
       "khaki:#F0E68C\n",
       "darksage:#598556\n",
       "sienna:#A0522D\n",
       "crimson:#DC143C\n",
       "salmon:#FA8072\n",
       "seashell:#FFF5EE\n",
       "turquoise:#40E0D0\n",
       "cyan:#00FFFF\n",
       "cadetblue:#5F9EA0\n",
       "lightcoral:#F08080\n",
       "gray:#808080\n",
       "lightsteelblue:#B0C4DE\n",
       "indigo:#4B0082\n",
       "mediumblue:#0000CD\n",
       "beige:#F5F5DC\n",
       "olivedrab:#6B8E23\n",
       "lightgreen:#90EE90\n",
       "ivory:#FFFFF0\n",
       "green:#008000\n",
       "lightslategrey:#778899\n",
       "darkgray:#A9A9A9\n",
       "darkseagreen:#8FBC8F\n",
       "cornflowerblue:#6495ED\n",
       "gold:#FFD700\n",
       "peru:#CD853F\n",
       "mediumvioletred:#C71585\n",
       "blanchedalmond:#FFEBCD\n",
       "burlywood:#DEB887\n",
       "darkolivegreen:#556B2F\n",
       "maroon:#800000\n",
       "lightcyan:#E0FFFF\n",
       "fuchsia:#FF00FF\n",
       "mediumslateblue:#7B68EE\n",
       "violet:#EE82EE\n",
       "darkslategrey:#2F4F4F\n",
       "hotpink:#FF69B4\n",
       "red:#FF0000\n",
       "rosybrown:#BC8F8F\n",
       "darkturquoise:#00CED1\n",
       "palegoldenrod:#EEE8AA\n",
       "brown:#A52A2A\n",
       "greenyellow:#ADFF2F\n",
       "lavenderblush:#FFF0F5\n",
       "darkgrey:#A9A9A9\n",
       "skyblue:#87CEEB\n",
       "aquamarine:#7FFFD4\n",
       "mediumorchid:#BA55D3\n",
       "darksalmon:#E9967A\n",
       "lemonchiffon:#FFFACD\n",
       "lightseagreen:#20B2AA\n",
       "mediumseagreen:#3CB371\n",
       "plum:#DDA0DD\n",
       "azure:#F0FFFF\n",
       "pink:#FFC0CB\n",
       "moccasin:#FFE4B5\n",
       "darkviolet:#9400D3\n",
       "lavender:#E6E6FA\n",
       "lightslategray:#778899\n",
       "grey:#808080\n",
       "lawngreen:#7CFC00\n",
       "gainsboro:#DCDCDC\n",
       "snow:#FFFAFA\n",
       "lightblue:#ADD8E6\n",
       "firebrick:#B22222\n",
       "silver:#C0C0C0\n",
       "lime:#00FF00\n",
       "mediumspringgreen:#00FA9A\n",
       "darkcyan:#008B8B\n",
       "antiquewhite:#FAEBD7\n",
       "darkgreen:#006400\n",
       "sage:#87AE73\n",
       "tomato:#FF6347\n",
       "cornsilk:#FFF8DC\n",
       "teal:#008080\n",
       "blueviolet:#8A2BE2\n",
       "mediumturquoise:#48D1CC\n",
       "palevioletred:#DB7093\n",
       "navy:#000080\n",
       "purple:#800080\n",
       "yellow:#FFFF00\n",
       "darkmagenta:#8B008B\n",
       "mintcream:#F5FFFA\n",
       "coral:#FF7F50\n",
       "deeppink:#FF1493\n",
       "orchid:#DA70D6\n",
       "lightpink:#FFB6C1\n",
       "peachpuff:#FFDAB9"
      ]
     },
     "execution_count": 5,
     "metadata": {},
     "output_type": "execute_result"
    }
   ],
   "source": [
    "mplu.colors.colors_mpl_cnames()"
   ]
  },
  {
   "cell_type": "markdown",
   "metadata": {},
   "source": [
    "If you only want colors related with a string you could use a string in the `colors_mpl_cnames` call and it will show only those aliases including the string used:"
   ]
  },
  {
   "cell_type": "code",
   "execution_count": 6,
   "metadata": {
    "collapsed": false
   },
   "outputs": [
    {
     "data": {
      "text/html": [
       "<table>\n",
       "  <tr>\n",
       "    <td>lightyellow</td>\n",
       "    <td>#FFFFE0</td>\n",
       "    <td bgcolor=\"#FFFFE0\" width=\"50px\"></td>\n",
       "  <tr>\n",
       "    <td>greenyellow</td>\n",
       "    <td>#ADFF2F</td>\n",
       "    <td bgcolor=\"#ADFF2F\" width=\"50px\"></td>\n",
       "  <tr>\n",
       "    <td>yellowgreen</td>\n",
       "    <td>#9ACD32</td>\n",
       "    <td bgcolor=\"#9ACD32\" width=\"50px\"></td>\n",
       "  <tr>\n",
       "    <td>lightgoldenrodyellow</td>\n",
       "    <td>#FAFAD2</td>\n",
       "    <td bgcolor=\"#FAFAD2\" width=\"50px\"></td>\n",
       "  <tr>\n",
       "    <td>yellow</td>\n",
       "    <td>#FFFF00</td>\n",
       "    <td bgcolor=\"#FFFF00\" width=\"50px\"></td>\n",
       "</table>"
      ],
      "text/plain": [
       "lightyellow:#FFFFE0\n",
       "greenyellow:#ADFF2F\n",
       "yellowgreen:#9ACD32\n",
       "lightgoldenrodyellow:#FAFAD2\n",
       "yellow:#FFFF00"
      ]
     },
     "execution_count": 6,
     "metadata": {},
     "output_type": "execute_result"
    }
   ],
   "source": [
    "mplu.colors.colors_mpl_cnames('yellow')"
   ]
  },
  {
   "cell_type": "markdown",
   "metadata": {},
   "source": [
    "### Check how a color image will be using a grayscale colormap.\n",
    "\n",
    "Let's create a simple plot:"
   ]
  },
  {
   "cell_type": "code",
   "execution_count": 10,
   "metadata": {
    "collapsed": false
   },
   "outputs": [
    {
     "data": {
      "text/plain": [
       "[<matplotlib.lines.Line2D at 0x7dcd128>]"
      ]
     },
     "execution_count": 10,
     "metadata": {},
     "output_type": "execute_result"
    },
    {
     "data": {
      "image/png": "[encoded data removed]",
      "text/plain": [
       "<matplotlib.figure.Figure at 0x7d35c18>"
      ]
     },
     "metadata": {},
     "output_type": "display_data"
    }
   ],
   "source": [
    "np.random.seed(1)\n",
    "fig, ax = plt.subplots(figsize = (10, 2))\n",
    "x, y = np.arange(-3, 7), np.random.rand(10)*5-5/2\n",
    "ax.plot(x, y, color = 'cyan', lw = 20)\n",
    "ax.plot(x, y - 1, color = 'lightblue', lw = 20)\n",
    "ax.plot(x, y - 2, color = 'pink', lw = 20)"
   ]
  },
  {
   "cell_type": "markdown",
   "metadata": {},
   "source": [
    "Now, let's check how the image would be in a grayscale colormap.\n",
    "\n",
    "There are three possibilities to change from color to grayscale:\n",
    "\n",
    "* `luminosity`: It uses the info found at https://en.wikipedia.org/wiki/Grayscale#Colorimetric_.28luminance-preserving.29_conversion_to_grayscale"
   ]
  },
  {
   "cell_type": "code",
   "execution_count": 11,
   "metadata": {
    "collapsed": false
   },
   "outputs": [
    {
     "data": {
      "image/png": "[encoded data removed]",
      "text/plain": [
       "<matplotlib.figure.Figure at 0x7d86e80>"
      ]
     },
     "metadata": {},
     "output_type": "display_data"
    }
   ],
   "source": [
    "mplu.colors.colors_check_grayscale(fig, 'luminosity')"
   ]
  },
  {
   "cell_type": "markdown",
   "metadata": {},
   "source": [
    "* `luma`: It uses the info found at https://en.wikipedia.org/wiki/Grayscale#Luma_coding_in_video_systems"
   ]
  },
  {
   "cell_type": "code",
   "execution_count": 12,
   "metadata": {
    "collapsed": false
   },
   "outputs": [
    {
     "data": {
      "image/png": "[encoded data removed]",
      "text/plain": [
       "<matplotlib.figure.Figure at 0x7d78748>"
      ]
     },
     "metadata": {},
     "output_type": "display_data"
    }
   ],
   "source": [
    "mplu.colors.colors_check_grayscale(fig, 'luma')"
   ]
  },
  {
   "cell_type": "markdown",
   "metadata": {},
   "source": [
    "* `average`: the grayscale is obtained using the average value between the Reg, Green and Blue channels."
   ]
  },
  {
   "cell_type": "code",
   "execution_count": 13,
   "metadata": {
    "collapsed": false
   },
   "outputs": [
    {
     "data": {
      "image/png": "[encoded data removed]",
      "text/plain": [
       "<matplotlib.figure.Figure at 0x7ef0390>"
      ]
     },
     "metadata": {},
     "output_type": "display_data"
    }
   ],
   "source": [
    "mplu.colors.colors_check_grayscale(fig, 'average')"
   ]
  },
  {
   "cell_type": "markdown",
   "metadata": {},
   "source": [
    "Warning: This functionality creates a hardcopy of the original image. If you want to save the grayscale image created on-the-fly you could use the `filename` keyword.\n",
    "\n",
    "`mplu.colors.colors_check_grayscale(fig, 'average', filename = 'sample.png')` will create a file called *sample.png* on the actual folder."
   ]
  },
  {
   "cell_type": "markdown",
   "metadata": {},
   "source": [
    "# Axes"
   ]
  },
  {
   "cell_type": "markdown",
   "metadata": {},
   "source": [
    "### Set better defaults for an `Axes` instance."
   ]
  },
  {
   "cell_type": "markdown",
   "metadata": {},
   "source": [
    "In order to provide some better defaults (this is very subjective) the function `axes_set_better_defaults` has been included. It does some very basic stuff:\n",
    "\n",
    "* Change figure facecolor to white.\n",
    "* Removes the grid.\n",
    "* Changes color and tick labels colors to a lighter gray."
   ]
  },
  {
   "cell_type": "markdown",
   "metadata": {},
   "source": [
    "For instance, the following figure:"
   ]
  },
  {
   "cell_type": "code",
   "execution_count": 11,
   "metadata": {
    "collapsed": false
   },
   "outputs": [
    {
     "data": {
      "text/plain": [
       "[<matplotlib.lines.Line2D at 0x7dd3f98>]"
      ]
     },
     "execution_count": 11,
     "metadata": {},
     "output_type": "execute_result"
    },
    {
     "data": {
      "image/png": "[encoded data removed]",
      "text/plain": [
       "<matplotlib.figure.Figure at 0x7d26358>"
      ]
     },
     "metadata": {},
     "output_type": "display_data"
    }
   ],
   "source": [
    "fig, ax = plt.subplots(facecolor = 'lightgray')\n",
    "ax.grid(True)\n",
    "ax.plot([1,2,3])"
   ]
  },
  {
   "cell_type": "markdown",
   "metadata": {},
   "source": [
    "Would be like this one in case we apply `axes_set_better_defaults` to an `Axes` instance"
   ]
  },
  {
   "cell_type": "code",
   "execution_count": 12,
   "metadata": {
    "collapsed": false
   },
   "outputs": [
    {
     "data": {
      "text/plain": [
       "[<matplotlib.lines.Line2D at 0x7dadbe0>]"
      ]
     },
     "execution_count": 12,
     "metadata": {},
     "output_type": "execute_result"
    },
    {
     "data": {
      "image/png": "[encoded data removed]",
      "text/plain": [
       "<matplotlib.figure.Figure at 0x7dadc88>"
      ]
     },
     "metadata": {},
     "output_type": "display_data"
    }
   ],
   "source": [
    "fig, ax = plt.subplots(facecolor = 'lightgray')\n",
    "ax.grid(True)\n",
    "mplu.axes.axes_set_better_defaults(ax)\n",
    "ax.plot([1,2,3])"
   ]
  },
  {
   "cell_type": "code",
   "execution_count": 15,
   "metadata": {
    "collapsed": false
   },
   "outputs": [
    {
     "data": {
      "text/plain": [
       "[<matplotlib.lines.Line2D at 0x90a55c0>]"
      ]
     },
     "execution_count": 15,
     "metadata": {},
     "output_type": "execute_result"
    },
    {
     "data": {
      "image/png": "[encoded data removed]",
      "text/plain": [
       "<matplotlib.figure.Figure at 0x7e72e48>"
      ]
     },
     "metadata": {},
     "output_type": "display_data"
    }
   ],
   "source": [
    "fig, (ax1, ax2) = plt.subplots(ncols = 2, figsize = (12, 6))\n",
    "ax1.plot([1,2,3])\n",
    "ax1.grid(True)\n",
    "mplu.axes.axes_set_better_defaults(ax2)\n",
    "ax2.plot([1,2,3])"
   ]
  },
  {
   "cell_type": "markdown",
   "metadata": {},
   "source": [
    "### Set better axis easily"
   ]
  },
  {
   "cell_type": "markdown",
   "metadata": {},
   "source": [
    "The function `axes_set_axis` provides an easy way to manage the axis, their visibility, if the axis should show some pan,..."
   ]
  },
  {
   "cell_type": "code",
   "execution_count": 5,
   "metadata": {
    "collapsed": false
   },
   "outputs": [
    {
     "data": {
      "image/png": "[encoded data removed]",
      "text/plain": [
       "<matplotlib.figure.Figure at 0x7d73080>"
      ]
     },
     "metadata": {},
     "output_type": "display_data"
    }
   ],
   "source": [
    "fig, (ax1, ax2, ax3) = plt.subplots(nrows = 3, figsize = (5, 15))\n",
    "\n",
    "x = np.linspace(-np.pi, np.pi, 256, endpoint=True)\n",
    "y = np.sin(x)\n",
    "\n",
    "ax1.plot(x, y)\n",
    "ax1.grid(True)\n",
    "ax1.set_title('Default with grid')\n",
    "\n",
    "mplu.axes.axes_set_axis(ax2, spines = ['bottom', 'left'], pan = 20)\n",
    "ax2.plot(x, y)\n",
    "ax2.set_title('Axis modified')\n",
    "\n",
    "mplu.axes.axes_set_axis(ax3, spines = ['bottom', 'left'], pan = 20)\n",
    "mplu.axes.axes_set_better_defaults(ax3, axes_color = '#666666')\n",
    "ax3.plot(x, y)\n",
    "ax3.set_title('Axis modified and better defaults', color = '#666666')\n",
    "fig.tight_layout()"
   ]
  },
  {
   "cell_type": "markdown",
   "metadata": {},
   "source": [
    "### Set the center of the axis"
   ]
  },
  {
   "cell_type": "markdown",
   "metadata": {},
   "source": [
    "The following code will center the origin of the axis on (0,0):"
   ]
  },
  {
   "cell_type": "code",
   "execution_count": 6,
   "metadata": {
    "collapsed": false
   },
   "outputs": [
    {
     "data": {
      "text/plain": [
       "[<matplotlib.lines.Line2D at 0x81a2a20>]"
      ]
     },
     "execution_count": 6,
     "metadata": {},
     "output_type": "execute_result"
    },
    {
     "data": {
      "image/png": "[encoded data removed]",
      "text/plain": [
       "<matplotlib.figure.Figure at 0x81a29e8>"
      ]
     },
     "metadata": {},
     "output_type": "display_data"
    }
   ],
   "source": [
    "fig, ax = plt.subplots()\n",
    "\n",
    "x = np.linspace(-np.pi, np.pi, 256, endpoint=True)\n",
    "y = np.sin(x)\n",
    "\n",
    "mplu.axes.axes_set_origin(ax)\n",
    "ax.plot(x, y, lw = 2)"
   ]
  },
  {
   "cell_type": "markdown",
   "metadata": {},
   "source": [
    "The previous example using also 'better defaults':"
   ]
  },
  {
   "cell_type": "code",
   "execution_count": 7,
   "metadata": {
    "collapsed": false
   },
   "outputs": [
    {
     "data": {
      "text/plain": [
       "[<matplotlib.lines.Line2D at 0x7d258d0>]"
      ]
     },
     "execution_count": 7,
     "metadata": {},
     "output_type": "execute_result"
    },
    {
     "data": {
      "image/png": "[encoded data removed]",
      "text/plain": [
       "<matplotlib.figure.Figure at 0x7cd48d0>"
      ]
     },
     "metadata": {},
     "output_type": "display_data"
    }
   ],
   "source": [
    "fig, ax = plt.subplots()\n",
    "\n",
    "x = np.linspace(-np.pi, np.pi, 256, endpoint=True)\n",
    "y = np.sin(x)\n",
    "\n",
    "mplu.axes.axes_set_origin(ax)\n",
    "mplu.axes.axes_set_better_defaults(ax)\n",
    "ax.plot(x, y, lw = 2)"
   ]
  },
  {
   "cell_type": "markdown",
   "metadata": {},
   "source": [
    "If you want the axis centered on a special location you can use the `x`, `y` keyword parameters:"
   ]
  },
  {
   "cell_type": "code",
   "execution_count": 8,
   "metadata": {
    "collapsed": false
   },
   "outputs": [
    {
     "data": {
      "image/png": "[encoded data removed]",
      "text/plain": [
       "<matplotlib.figure.Figure at 0x7d96320>"
      ]
     },
     "metadata": {},
     "output_type": "display_data"
    }
   ],
   "source": [
    "fig, ((ax1, ax2), (ax3, ax4)) = plt.subplots(nrows = 2, ncols = 2, figsize = (10, 10))\n",
    "\n",
    "x = np.linspace(-np.pi, np.pi, 256, endpoint=True)\n",
    "y = np.sin(x)\n",
    "\n",
    "mplu.axes.axes_set_origin(ax1)\n",
    "ax1.plot(x, y, lw = 2)\n",
    "\n",
    "mplu.axes.axes_set_origin(ax2, x = 0, y = x.min())\n",
    "ax2.plot(x, y, lw = 2)\n",
    "\n",
    "mplu.axes.axes_set_origin(ax3, x = y.max(), y = x.min())\n",
    "ax3.plot(x, y, lw = 2)\n",
    "\n",
    "mplu.axes.axes_set_origin(ax4, x = 0, y = x.max() + 1)\n",
    "ax4.plot(x, y, lw = 2)\n",
    "\n",
    "fig.tight_layout()"
   ]
  },
  {
   "cell_type": "markdown",
   "metadata": {},
   "source": [
    "In some of the previous subplots the tick labels are not well located. You can use the `xticks_position` or the `yticks_position` to improve the layout."
   ]
  },
  {
   "cell_type": "code",
   "execution_count": 12,
   "metadata": {
    "collapsed": false
   },
   "outputs": [
    {
     "data": {
      "image/png": "[encoded data removed]",
      "text/plain": [
       "<matplotlib.figure.Figure at 0x7e885c0>"
      ]
     },
     "metadata": {},
     "output_type": "display_data"
    }
   ],
   "source": [
    "fig, (ax3, ax4) = plt.subplots(nrows = 2, figsize = (10, 10))\n",
    "\n",
    "x = np.linspace(-np.pi, np.pi, 256, endpoint=True)\n",
    "y = np.sin(x)\n",
    "\n",
    "mplu.axes.axes_set_origin(ax3, x = y.max(), y = -4, xticks_position = 'top')\n",
    "ax3.plot(x, y, lw = 2)\n",
    "\n",
    "mplu.axes.axes_set_origin(ax4, x = 0, y = 4, yticks_position = 'right')\n",
    "ax4.plot(x, y, lw = 2)\n",
    "\n",
    "fig.tight_layout()"
   ]
  },
  {
   "cell_type": "markdown",
   "metadata": {},
   "source": [
    "Finally, if you don't want tick labels you could use `xticks_visible` and/or `yticks_visible` keyword parameters to remove ticks and ticklabels:"
   ]
  },
  {
   "cell_type": "code",
   "execution_count": 14,
   "metadata": {
    "collapsed": false
   },
   "outputs": [
    {
     "data": {
      "text/plain": [
       "(-1.1, 1.1)"
      ]
     },
     "execution_count": 14,
     "metadata": {},
     "output_type": "execute_result"
    },
    {
     "data": {
      "image/png": "[encoded data removed]",
      "text/plain": [
       "<matplotlib.figure.Figure at 0x7f01048>"
      ]
     },
     "metadata": {},
     "output_type": "display_data"
    }
   ],
   "source": [
    "fig, ax = plt.subplots()\n",
    "\n",
    "x = np.linspace(-np.pi, np.pi, 256, endpoint=True)\n",
    "y = np.sin(x)\n",
    "\n",
    "mplu.axes.axes_set_origin(ax, xticks_visible = False, yticks_visible = False)\n",
    "mplu.axes.axes_set_better_defaults(ax)\n",
    "ax.plot(x, y, lw = 2)\n",
    "ax.set_ylim(-1.1, 1.1)"
   ]
  },
  {
   "cell_type": "markdown",
   "metadata": {},
   "source": [
    "### Set axis aspect ratio"
   ]
  },
  {
   "cell_type": "markdown",
   "metadata": {},
   "source": [
    "This is a dummy wrapper around `Axes.set_aspect` method. It is included just to remember I should apply an equal aspect ratio to axis scales in some situations.\n",
    "\n",
    "For instance, in a linear relation sometimes it could be misleading to show the plot without aspect ratio. In this example one can infer the y variation in relation to x would be higher than it is:"
   ]
  },
  {
   "cell_type": "code",
   "execution_count": 3,
   "metadata": {
    "collapsed": false
   },
   "outputs": [
    {
     "data": {
      "text/plain": [
       "<matplotlib.collections.PathCollection at 0x767c908>"
      ]
     },
     "execution_count": 3,
     "metadata": {},
     "output_type": "execute_result"
    },
    {
     "data": {
      "image/png": "[encoded data removed]",
      "text/plain": [
       "<matplotlib.figure.Figure at 0x7609b38>"
      ]
     },
     "metadata": {},
     "output_type": "display_data"
    }
   ],
   "source": [
    "np.random.seed(5)\n",
    "x = np.random.rand(200) * 10\n",
    "y = x / 4 + np.random.rand(200) - 0.5\n",
    "\n",
    "fig, ax = plt.subplots()\n",
    "ax.scatter(x, y)"
   ]
  },
  {
   "cell_type": "markdown",
   "metadata": {},
   "source": [
    "With equal axis aspect ratio:"
   ]
  },
  {
   "cell_type": "code",
   "execution_count": 3,
   "metadata": {
    "collapsed": false
   },
   "outputs": [
    {
     "data": {
      "text/plain": [
       "<matplotlib.collections.PathCollection at 0x76eab00>"
      ]
     },
     "execution_count": 3,
     "metadata": {},
     "output_type": "execute_result"
    },
    {
     "data": {
      "image/png": "[encoded data removed]",
      "text/plain": [
       "<matplotlib.figure.Figure at 0x7658d68>"
      ]
     },
     "metadata": {},
     "output_type": "display_data"
    }
   ],
   "source": [
    "np.random.seed(5)\n",
    "x = np.random.rand(200) * 10\n",
    "y = x / 4 + np.random.rand(200) - 0.5\n",
    "\n",
    "fig, ax = plt.subplots()\n",
    "mplu.axes.axes_set_aspect_ratio(ax, adjustable = 'datalim')\n",
    "ax.scatter(x, y)"
   ]
  },
  {
   "cell_type": "code",
   "execution_count": null,
   "metadata": {
    "collapsed": true
   },
   "outputs": [],
   "source": []
  }
 ],
 "metadata": {
  "kernelspec": {
   "display_name": "Python 3",
   "language": "python",
   "name": "python3"
  },
  "language_info": {
   "codemirror_mode": {
    "name": "ipython",
    "version": 3
   },
   "file_extension": ".py",
   "mimetype": "text/x-python",
   "name": "python",
   "nbconvert_exporter": "python",
   "pygments_lexer": "ipython3",
   "version": "3.5.1"
  }
 },
 "nbformat": 4,
 "nbformat_minor": 0
}
